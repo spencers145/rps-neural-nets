{
 "cells": [
  {
   "cell_type": "markdown",
   "metadata": {},
   "source": [
    "This file acts as a readme for the libraries created for this project."
   ]
  },
  {
   "cell_type": "markdown",
   "metadata": {},
   "source": [
    "First, we need to create a **Schema**.<br>\n",
    "**Schemas** are a class containing **Types**, which are moves that can be played during the game. **Types** contain information about how they affect the score of the user who played them. Combining these creates a **Schema**, which is a ruleset for the game."
   ]
  },
  {
   "cell_type": "code",
   "execution_count": 1,
   "metadata": {},
   "outputs": [
    {
     "data": {
      "text/plain": [
       "{'rock': <rpsnetworks.type_templates.Rock at 0x1d6098f9f40>,\n",
       " 'paper': <rpsnetworks.type_templates.Paper at 0x1d6098fa900>,\n",
       " 'scissors': <rpsnetworks.type_templates.Scissors at 0x1d609a34680>}"
      ]
     },
     "execution_count": 1,
     "metadata": {},
     "output_type": "execute_result"
    }
   ],
   "source": [
    "import rpsnetworks.schema_templates\n",
    "\n",
    "# several schemas are predefined\n",
    "RPS_SCHEMA = rpsnetworks.schema_templates.RockPaperScissors()\n",
    "# observe the TYPES in this schema\n",
    "RPS_SCHEMA.TYPES"
   ]
  },
  {
   "cell_type": "markdown",
   "metadata": {},
   "source": [
    "Now we need some **Players**. Every **Player** has a **Controller** that defines how it selects moves."
   ]
  },
  {
   "cell_type": "code",
   "execution_count": 2,
   "metadata": {},
   "outputs": [
    {
     "name": "stdout",
     "output_type": "stream",
     "text": [
      "random mixed_random\n"
     ]
    }
   ],
   "source": [
    "import rpsnetworks.player_templates\n",
    "\n",
    "# there are several templates to quickly create new players\n",
    "player1 = rpsnetworks.player_templates.randomPlayer(\"player1\", 1) # every player has an ID and starting points\n",
    "\n",
    "# for player 2:\n",
    "player_2_strategy = [0.5, 0.5, 0]\n",
    "# strategies are a list of weights for choosing each move (they need not add up to 1, but it is easier to read if they do)\n",
    "# indices correspond to the order of types in the schema we chose (see output of the above code block)\n",
    "# this player only chooses rock or paper, 50% of the time each.\n",
    "\n",
    "player2 = rpsnetworks.player_templates.mixedStrategyPlayer(\"player2\", 1, player_2_strategy) # mixed players have a strategy\n",
    "\n",
    "print(player1.CONTROLLER.ID, player2.CONTROLLER.ID)"
   ]
  },
  {
   "cell_type": "markdown",
   "metadata": {},
   "source": [
    "Let's run some **Games**."
   ]
  },
  {
   "cell_type": "code",
   "execution_count": 3,
   "metadata": {},
   "outputs": [
    {
     "data": {
      "text/plain": [
       "{'network_game_0': ['player2'],\n",
       " 'network_game_1': ['player1'],\n",
       " 'network_game_2': ['player2']}"
      ]
     },
     "execution_count": 3,
     "metadata": {},
     "output_type": "execute_result"
    }
   ],
   "source": [
    "import rpsnetworks.battle_manager\n",
    "\n",
    "# we *always* need a manager object first\n",
    "manager = rpsnetworks.battle_manager.Manager()\n",
    "\n",
    "# it's best practice to use the runGames function to auto-manage the process of running games\n",
    "rpsnetworks.battle_manager.runGames(manager, 3, # number of games to run\n",
    "                                     [player1, player2], RPS_SCHEMA, {\"record_players\": True})\n",
    "\n",
    "# no return value. results are stored in the manager object\n",
    "manager.results"
   ]
  },
  {
   "cell_type": "code",
   "execution_count": 4,
   "metadata": {},
   "outputs": [
    {
     "data": {
      "text/plain": [
       "{'network_game_0': [{'players_before_turn': '[{\"id\": \"player1\", \"hp\": 1, \"controller_id\": \"random\"}, {\"id\": \"player2\", \"hp\": 1, \"controller_id\": \"mixed_random\"}]',\n",
       "   'players_after_turn': '[{\"id\": \"player2\", \"hp\": 1, \"controller_id\": \"mixed_random\"}]',\n",
       "   'moves': ['scissors', 'rock'],\n",
       "   'turn': 0}],\n",
       " 'network_game_1': [{'players_before_turn': '[{\"id\": \"player1\", \"hp\": 1, \"controller_id\": \"random\"}, {\"id\": \"player2\", \"hp\": 1, \"controller_id\": \"mixed_random\"}]',\n",
       "   'players_after_turn': '[{\"id\": \"player1\", \"hp\": 1, \"controller_id\": \"random\"}, {\"id\": \"player2\", \"hp\": 1, \"controller_id\": \"mixed_random\"}]',\n",
       "   'moves': ['rock', 'rock'],\n",
       "   'turn': 0},\n",
       "  {'players_before_turn': '[{\"id\": \"player1\", \"hp\": 1, \"controller_id\": \"random\"}, {\"id\": \"player2\", \"hp\": 1, \"controller_id\": \"mixed_random\"}]',\n",
       "   'players_after_turn': '[{\"id\": \"player1\", \"hp\": 1, \"controller_id\": \"random\"}]',\n",
       "   'moves': ['paper', 'rock'],\n",
       "   'turn': 1}],\n",
       " 'network_game_2': [{'players_before_turn': '[{\"id\": \"player1\", \"hp\": 1, \"controller_id\": \"random\"}, {\"id\": \"player2\", \"hp\": 1, \"controller_id\": \"mixed_random\"}]',\n",
       "   'players_after_turn': '[{\"id\": \"player2\", \"hp\": 1, \"controller_id\": \"mixed_random\"}]',\n",
       "   'moves': ['rock', 'paper'],\n",
       "   'turn': 0}]}"
      ]
     },
     "execution_count": 4,
     "metadata": {},
     "output_type": "execute_result"
    }
   ],
   "source": [
    "# this is a little dense; it takes a bit to get used to reading\n",
    "# we have 3 games here at the top level of the dict\n",
    "# every turn is recorded and the moves are given in order of the indices of the players\n",
    "# e.g. player2 throws rock and is the 2nd player, so the 2nd entry of the moves list that turn is rock\n",
    "manager.history"
   ]
  },
  {
   "cell_type": "markdown",
   "metadata": {},
   "source": [
    "Let's train a neural net now."
   ]
  },
  {
   "cell_type": "code",
   "execution_count": 18,
   "metadata": {},
   "outputs": [
    {
     "name": "stdout",
     "output_type": "stream",
     "text": [
      "<rpsnetworks.network.Network object at 0x000001D609AC5C40> {'rock': 0.0, 'paper': 1.0, 'scissors': 0.0}\n"
     ]
    }
   ],
   "source": [
    "import rpsnetworks.training_manager\n",
    "\n",
    "opponents = [player2]\n",
    "\n",
    "train_out = rpsnetworks.training_manager.trainNetwork(\n",
    "    10, 15, 20, # training parameters\n",
    "    [2, 2, 3], rpsnetworks.player_templates.basicNetworkPlayer, 1, # neural network parameters\n",
    "    opponents, RPS_SCHEMA # battle parameters\n",
    ")\n",
    "\n",
    "print(train_out[1], train_out[3])"
   ]
  },
  {
   "cell_type": "markdown",
   "metadata": {},
   "source": [
    "Our output network always plays paper.\n",
    "\n",
    "We can use the \"verbose\" flag to get basic summary data."
   ]
  },
  {
   "cell_type": "code",
   "execution_count": 20,
   "metadata": {},
   "outputs": [
    {
     "name": "stdout",
     "output_type": "stream",
     "text": [
      "TRAINING PARAMETERS:\n",
      "Generations: 10\n",
      "Children tested per generation: 15\n",
      "Base # of test-games per child: 20\n",
      "---------------\n",
      "Schema used: Rock Paper Scissors\n",
      "Opponent count: 2\n",
      "---------------\n",
      "RESULTS:\n",
      "Network proficiency: 0.828\n",
      "Move distribution:\n",
      "rock: 0.673\n",
      "paper: 0.000\n",
      "scissors: 0.327\n"
     ]
    }
   ],
   "source": [
    "import rpsnetworks.training_manager\n",
    "\n",
    "opponents = [\n",
    "    rpsnetworks.player_templates.mixedStrategyPlayer(\"player1\", 3, [0.5, 0, 0.5]),\n",
    "    rpsnetworks.player_templates.mixedStrategyPlayer(\"player2\", 3, [0, 0.5, 0.5])\n",
    "]\n",
    "\n",
    "train_out = rpsnetworks.training_manager.trainNetwork(\n",
    "    10, 15, 20,\n",
    "    [4, 2, 3], rpsnetworks.player_templates.playerAwareNetworkPlayer, 3,\n",
    "    opponents, RPS_SCHEMA,\n",
    "    verbose=True\n",
    ")"
   ]
  },
  {
   "cell_type": "markdown",
   "metadata": {},
   "source": [
    "Documentation for the training process can be found in comments in training_manager.py.\n",
    "Additional examples can be found in showcase.ipynb."
   ]
  }
 ],
 "metadata": {
  "kernelspec": {
   "display_name": "Python 3",
   "language": "python",
   "name": "python3"
  },
  "language_info": {
   "codemirror_mode": {
    "name": "ipython",
    "version": 3
   },
   "file_extension": ".py",
   "mimetype": "text/x-python",
   "name": "python",
   "nbconvert_exporter": "python",
   "pygments_lexer": "ipython3",
   "version": "3.12.2"
  }
 },
 "nbformat": 4,
 "nbformat_minor": 2
}
