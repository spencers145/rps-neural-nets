{
 "cells": [
  {
   "cell_type": "markdown",
   "metadata": {},
   "source": [
    "##### Welcome to the project showcase file for the Rock-Paper-Scissors-like Neural Networks project.\n",
    "\n",
    "Before continuing, make sure you read **start_here.ipynb** first.\n",
    "\n",
    "**This project focuses on the development of a way to train neural networks to fight against opponents in games that resemble rock-paper-scissors.**\n",
    "\n",
    "This is how we define \"**rock-paper-scissors-like**\":\n",
    "- Turn-based game.\n",
    "- At least 2 players (we allow more than 2).\n",
    "- Players start with a positive, whole-number score.\n",
    "    - If their score drops to 0, they are eliminated (at the end of the turn).\n",
    "- On each turn, players select one move each.\n",
    "    - There is a fixed selection of moves (e.g. rock, paper, scissors, lizard, spock).\n",
    "    - Any player can pick any move.\n",
    "- Each move is used simultaneously (e.g. everyone throws their moves at the same time in rock paper scissors).\n",
    "    - Moves target every other player, once each.\n",
    "        - e.g. imagine a game with 3 people. If two people play rock, and one plays paper, the paper hits the rock players once each (eliminating both!).\n",
    "    - The move changes the score of the target based on the target's move that turn.\n",
    "        - e.g. if you play rock, and they play scissors, they lose a point... But if you *both* play rock, they don't lose a point.\n",
    "- The game continues until either 1 or 0 players remain.\n",
    "    - If one player remains, they win.\n",
    "    - If no players remain, nobody wins (yes, this can happen. you need have at least 3 players, though).\n",
    "\n",
    "As a sanity check, we can see that rock-paper-scissors is, indeed, RPS-like: players start with a score of 1. They may choose Rock, Paper, or Scissors. They throw their moves at the same time, and players are eliminated if they play the wrong move (their score drops from 1 to 0).\n",
    "\n",
    "Another simple example (which we will make extensive use of), a best-of-three RPS game is also RPS-like: it is rock-paper-scissors, but players start with a score of 2 instead of 1 (you have to play the wrong move two times out of three to lose)."
   ]
  },
  {
   "cell_type": "markdown",
   "metadata": {},
   "source": [
    "---"
   ]
  },
  {
   "cell_type": "markdown",
   "metadata": {},
   "source": [
    "We will now showcase the applications of this project."
   ]
  },
  {
   "cell_type": "code",
   "execution_count": 1,
   "metadata": {},
   "outputs": [],
   "source": [
    "import rpsnetworks"
   ]
  },
  {
   "cell_type": "markdown",
   "metadata": {},
   "source": [
    "The following code trains a neural network to play a game of rock paper scissors against an opponent who always plays rock."
   ]
  },
  {
   "cell_type": "code",
   "execution_count": null,
   "metadata": {},
   "outputs": [],
   "source": [
    "rpsnetworks."
   ]
  },
  {
   "cell_type": "markdown",
   "metadata": {},
   "source": [
    "A custom game: You have 5 moves. You can *Attack*, *Defend*, *Special*, *Deflect*, or *Heal*.<br>\n",
    "If you attack, and your opponent does not defend, they lose 1 point.<br>\n",
    "If you defend, and your opponent uses special, both of you lose 1 point.<br>\n",
    "If you use special, and your opponent uses attack, special, or heal, they lose 2 points.<br>\n",
    "If you deflect, and your opponent uses special, they lose 2 points.<br>\n",
    "If you heal, you gain 1 point on top of any losses inflicted by the opponent that turn.<br>\n",
    "The same goes for your opponent for all these rules. (e.g. if you both use special, then you both lose 2 points)<br>\n",
    "This is an RPS-like. It's a more intricate system to train AI on, and it helped expose shortcomings in the training process."
   ]
  },
  {
   "cell_type": "markdown",
   "metadata": {},
   "source": []
  }
 ],
 "metadata": {
  "kernelspec": {
   "display_name": "Python 3",
   "language": "python",
   "name": "python3"
  },
  "language_info": {
   "codemirror_mode": {
    "name": "ipython",
    "version": 3
   },
   "file_extension": ".py",
   "mimetype": "text/x-python",
   "name": "python",
   "nbconvert_exporter": "python",
   "pygments_lexer": "ipython3",
   "version": "3.12.2"
  }
 },
 "nbformat": 4,
 "nbformat_minor": 2
}
